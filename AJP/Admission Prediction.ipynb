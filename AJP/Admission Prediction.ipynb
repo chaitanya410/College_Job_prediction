{
 "cells": [
  {
   "cell_type": "code",
   "execution_count": 4,
   "metadata": {},
   "outputs": [],
   "source": [
    "import numpy as np\n",
    "import pandas as pd\n",
    "import seaborn as sns\n",
    "import matplotlib.pyplot as plt\n"
   ]
  },
  {
   "cell_type": "code",
   "execution_count": 5,
   "metadata": {},
   "outputs": [],
   "source": [
    "d= pd.read_csv(\"college_admission_prediction.csv\")"
   ]
  },
  {
   "cell_type": "code",
   "execution_count": 6,
   "metadata": {},
   "outputs": [
    {
     "data": {
      "text/html": [
       "<div>\n",
       "<style scoped>\n",
       "    .dataframe tbody tr th:only-of-type {\n",
       "        vertical-align: middle;\n",
       "    }\n",
       "\n",
       "    .dataframe tbody tr th {\n",
       "        vertical-align: top;\n",
       "    }\n",
       "\n",
       "    .dataframe thead th {\n",
       "        text-align: right;\n",
       "    }\n",
       "</style>\n",
       "<table border=\"1\" class=\"dataframe\">\n",
       "  <thead>\n",
       "    <tr style=\"text-align: right;\">\n",
       "      <th></th>\n",
       "      <th>Unnamed: 0</th>\n",
       "      <th>Year</th>\n",
       "      <th>10th Marks</th>\n",
       "      <th>12th Marks</th>\n",
       "      <th>12th Division</th>\n",
       "      <th>AIEEE Rank</th>\n",
       "      <th>College</th>\n",
       "      <th>States</th>\n",
       "    </tr>\n",
       "  </thead>\n",
       "  <tbody>\n",
       "    <tr>\n",
       "      <th>0</th>\n",
       "      <td>0</td>\n",
       "      <td>2015</td>\n",
       "      <td>95</td>\n",
       "      <td>92</td>\n",
       "      <td>2</td>\n",
       "      <td>100</td>\n",
       "      <td>IIT delhi</td>\n",
       "      <td>Delhi</td>\n",
       "    </tr>\n",
       "    <tr>\n",
       "      <th>1</th>\n",
       "      <td>1</td>\n",
       "      <td>2015</td>\n",
       "      <td>75</td>\n",
       "      <td>88</td>\n",
       "      <td>3</td>\n",
       "      <td>1023</td>\n",
       "      <td>VIT vellore</td>\n",
       "      <td>Tamil Nadu</td>\n",
       "    </tr>\n",
       "    <tr>\n",
       "      <th>2</th>\n",
       "      <td>2</td>\n",
       "      <td>2015</td>\n",
       "      <td>83</td>\n",
       "      <td>84</td>\n",
       "      <td>6</td>\n",
       "      <td>2935</td>\n",
       "      <td>Ahemedabad IT</td>\n",
       "      <td>Gujrat</td>\n",
       "    </tr>\n",
       "    <tr>\n",
       "      <th>3</th>\n",
       "      <td>3</td>\n",
       "      <td>2015</td>\n",
       "      <td>75</td>\n",
       "      <td>91</td>\n",
       "      <td>8</td>\n",
       "      <td>5647</td>\n",
       "      <td>University college of ENGG</td>\n",
       "      <td>Andhra Pradesh</td>\n",
       "    </tr>\n",
       "    <tr>\n",
       "      <th>4</th>\n",
       "      <td>4</td>\n",
       "      <td>2015</td>\n",
       "      <td>94</td>\n",
       "      <td>94</td>\n",
       "      <td>9</td>\n",
       "      <td>3564</td>\n",
       "      <td>SRMIST chennai</td>\n",
       "      <td>Tamil Nadu</td>\n",
       "    </tr>\n",
       "  </tbody>\n",
       "</table>\n",
       "</div>"
      ],
      "text/plain": [
       "   Unnamed: 0  Year  10th Marks  12th Marks  12th Division  AIEEE Rank  \\\n",
       "0           0  2015          95          92              2         100   \n",
       "1           1  2015          75          88              3        1023   \n",
       "2           2  2015          83          84              6        2935   \n",
       "3           3  2015          75          91              8        5647   \n",
       "4           4  2015          94          94              9        3564   \n",
       "\n",
       "                      College          States  \n",
       "0                   IIT delhi           Delhi  \n",
       "1                 VIT vellore      Tamil Nadu  \n",
       "2               Ahemedabad IT          Gujrat  \n",
       "3  University college of ENGG  Andhra Pradesh  \n",
       "4              SRMIST chennai      Tamil Nadu  "
      ]
     },
     "execution_count": 6,
     "metadata": {},
     "output_type": "execute_result"
    }
   ],
   "source": [
    "d.head()"
   ]
  },
  {
   "cell_type": "code",
   "execution_count": 7,
   "metadata": {},
   "outputs": [
    {
     "data": {
      "text/html": [
       "<div>\n",
       "<style scoped>\n",
       "    .dataframe tbody tr th:only-of-type {\n",
       "        vertical-align: middle;\n",
       "    }\n",
       "\n",
       "    .dataframe tbody tr th {\n",
       "        vertical-align: top;\n",
       "    }\n",
       "\n",
       "    .dataframe thead th {\n",
       "        text-align: right;\n",
       "    }\n",
       "</style>\n",
       "<table border=\"1\" class=\"dataframe\">\n",
       "  <thead>\n",
       "    <tr style=\"text-align: right;\">\n",
       "      <th></th>\n",
       "      <th>Unnamed: 0</th>\n",
       "      <th>Year</th>\n",
       "      <th>10th Marks</th>\n",
       "      <th>12th Marks</th>\n",
       "      <th>12th Division</th>\n",
       "      <th>AIEEE Rank</th>\n",
       "      <th>College</th>\n",
       "      <th>States</th>\n",
       "    </tr>\n",
       "  </thead>\n",
       "  <tbody>\n",
       "    <tr>\n",
       "      <th>999</th>\n",
       "      <td>999</td>\n",
       "      <td>2019</td>\n",
       "      <td>89</td>\n",
       "      <td>81</td>\n",
       "      <td>3</td>\n",
       "      <td>4523</td>\n",
       "      <td>IIT jodhpur</td>\n",
       "      <td>Rajasthan</td>\n",
       "    </tr>\n",
       "    <tr>\n",
       "      <th>1000</th>\n",
       "      <td>1000</td>\n",
       "      <td>2019</td>\n",
       "      <td>93</td>\n",
       "      <td>88</td>\n",
       "      <td>1</td>\n",
       "      <td>5511</td>\n",
       "      <td>BIT Mesra</td>\n",
       "      <td>Jharkhnad</td>\n",
       "    </tr>\n",
       "    <tr>\n",
       "      <th>1001</th>\n",
       "      <td>1001</td>\n",
       "      <td>2019</td>\n",
       "      <td>86</td>\n",
       "      <td>93</td>\n",
       "      <td>1</td>\n",
       "      <td>100</td>\n",
       "      <td>IIT Bombay</td>\n",
       "      <td>Maharashtra</td>\n",
       "    </tr>\n",
       "    <tr>\n",
       "      <th>1002</th>\n",
       "      <td>1002</td>\n",
       "      <td>2019</td>\n",
       "      <td>85</td>\n",
       "      <td>89</td>\n",
       "      <td>9</td>\n",
       "      <td>515</td>\n",
       "      <td>IIT hydrabad</td>\n",
       "      <td>Telangana</td>\n",
       "    </tr>\n",
       "    <tr>\n",
       "      <th>1003</th>\n",
       "      <td>1003</td>\n",
       "      <td>2019</td>\n",
       "      <td>78</td>\n",
       "      <td>85</td>\n",
       "      <td>11</td>\n",
       "      <td>1730</td>\n",
       "      <td>IIT indore</td>\n",
       "      <td>Madhya Pradesh</td>\n",
       "    </tr>\n",
       "  </tbody>\n",
       "</table>\n",
       "</div>"
      ],
      "text/plain": [
       "      Unnamed: 0  Year  10th Marks  12th Marks  12th Division  AIEEE Rank  \\\n",
       "999          999  2019          89          81              3        4523   \n",
       "1000        1000  2019          93          88              1        5511   \n",
       "1001        1001  2019          86          93              1         100   \n",
       "1002        1002  2019          85          89              9         515   \n",
       "1003        1003  2019          78          85             11        1730   \n",
       "\n",
       "           College          States  \n",
       "999    IIT jodhpur       Rajasthan  \n",
       "1000     BIT Mesra       Jharkhnad  \n",
       "1001    IIT Bombay     Maharashtra  \n",
       "1002  IIT hydrabad       Telangana  \n",
       "1003    IIT indore  Madhya Pradesh  "
      ]
     },
     "execution_count": 7,
     "metadata": {},
     "output_type": "execute_result"
    }
   ],
   "source": [
    "d.tail()"
   ]
  },
  {
   "cell_type": "code",
   "execution_count": 8,
   "metadata": {},
   "outputs": [
    {
     "name": "stdout",
     "output_type": "stream",
     "text": [
      "<class 'pandas.core.frame.DataFrame'>\n",
      "RangeIndex: 1004 entries, 0 to 1003\n",
      "Data columns (total 8 columns):\n",
      " #   Column         Non-Null Count  Dtype \n",
      "---  ------         --------------  ----- \n",
      " 0   Unnamed: 0     1004 non-null   int64 \n",
      " 1   Year           1004 non-null   int64 \n",
      " 2   10th Marks     1004 non-null   int64 \n",
      " 3   12th Marks     1004 non-null   int64 \n",
      " 4   12th Division  1004 non-null   int64 \n",
      " 5   AIEEE Rank     1004 non-null   int64 \n",
      " 6   College        1004 non-null   object\n",
      " 7   States         1004 non-null   object\n",
      "dtypes: int64(6), object(2)\n",
      "memory usage: 62.9+ KB\n"
     ]
    }
   ],
   "source": [
    "d.info()"
   ]
  },
  {
   "cell_type": "code",
   "execution_count": 9,
   "metadata": {},
   "outputs": [
    {
     "data": {
      "text/html": [
       "<div>\n",
       "<style scoped>\n",
       "    .dataframe tbody tr th:only-of-type {\n",
       "        vertical-align: middle;\n",
       "    }\n",
       "\n",
       "    .dataframe tbody tr th {\n",
       "        vertical-align: top;\n",
       "    }\n",
       "\n",
       "    .dataframe thead th {\n",
       "        text-align: right;\n",
       "    }\n",
       "</style>\n",
       "<table border=\"1\" class=\"dataframe\">\n",
       "  <thead>\n",
       "    <tr style=\"text-align: right;\">\n",
       "      <th></th>\n",
       "      <th>Unnamed: 0</th>\n",
       "      <th>Year</th>\n",
       "      <th>10th Marks</th>\n",
       "      <th>12th Marks</th>\n",
       "      <th>12th Division</th>\n",
       "      <th>AIEEE Rank</th>\n",
       "    </tr>\n",
       "  </thead>\n",
       "  <tbody>\n",
       "    <tr>\n",
       "      <th>count</th>\n",
       "      <td>1004.000000</td>\n",
       "      <td>1004.000000</td>\n",
       "      <td>1004.000000</td>\n",
       "      <td>1004.000000</td>\n",
       "      <td>1004.000000</td>\n",
       "      <td>1004.000000</td>\n",
       "    </tr>\n",
       "    <tr>\n",
       "      <th>mean</th>\n",
       "      <td>501.500000</td>\n",
       "      <td>2017.389442</td>\n",
       "      <td>87.000996</td>\n",
       "      <td>87.935259</td>\n",
       "      <td>4.216135</td>\n",
       "      <td>3348.584661</td>\n",
       "    </tr>\n",
       "    <tr>\n",
       "      <th>std</th>\n",
       "      <td>289.974137</td>\n",
       "      <td>1.198507</td>\n",
       "      <td>5.351549</td>\n",
       "      <td>4.704084</td>\n",
       "      <td>2.551972</td>\n",
       "      <td>1963.073509</td>\n",
       "    </tr>\n",
       "    <tr>\n",
       "      <th>min</th>\n",
       "      <td>0.000000</td>\n",
       "      <td>2015.000000</td>\n",
       "      <td>74.000000</td>\n",
       "      <td>74.000000</td>\n",
       "      <td>1.000000</td>\n",
       "      <td>45.000000</td>\n",
       "    </tr>\n",
       "    <tr>\n",
       "      <th>25%</th>\n",
       "      <td>250.750000</td>\n",
       "      <td>2016.000000</td>\n",
       "      <td>85.000000</td>\n",
       "      <td>85.000000</td>\n",
       "      <td>2.000000</td>\n",
       "      <td>2135.000000</td>\n",
       "    </tr>\n",
       "    <tr>\n",
       "      <th>50%</th>\n",
       "      <td>501.500000</td>\n",
       "      <td>2018.000000</td>\n",
       "      <td>88.000000</td>\n",
       "      <td>88.000000</td>\n",
       "      <td>4.000000</td>\n",
       "      <td>3215.000000</td>\n",
       "    </tr>\n",
       "    <tr>\n",
       "      <th>75%</th>\n",
       "      <td>752.250000</td>\n",
       "      <td>2018.000000</td>\n",
       "      <td>91.000000</td>\n",
       "      <td>92.000000</td>\n",
       "      <td>6.000000</td>\n",
       "      <td>4523.000000</td>\n",
       "    </tr>\n",
       "    <tr>\n",
       "      <th>max</th>\n",
       "      <td>1003.000000</td>\n",
       "      <td>2019.000000</td>\n",
       "      <td>95.000000</td>\n",
       "      <td>95.000000</td>\n",
       "      <td>11.000000</td>\n",
       "      <td>9878.000000</td>\n",
       "    </tr>\n",
       "  </tbody>\n",
       "</table>\n",
       "</div>"
      ],
      "text/plain": [
       "        Unnamed: 0         Year   10th Marks   12th Marks  12th Division  \\\n",
       "count  1004.000000  1004.000000  1004.000000  1004.000000    1004.000000   \n",
       "mean    501.500000  2017.389442    87.000996    87.935259       4.216135   \n",
       "std     289.974137     1.198507     5.351549     4.704084       2.551972   \n",
       "min       0.000000  2015.000000    74.000000    74.000000       1.000000   \n",
       "25%     250.750000  2016.000000    85.000000    85.000000       2.000000   \n",
       "50%     501.500000  2018.000000    88.000000    88.000000       4.000000   \n",
       "75%     752.250000  2018.000000    91.000000    92.000000       6.000000   \n",
       "max    1003.000000  2019.000000    95.000000    95.000000      11.000000   \n",
       "\n",
       "        AIEEE Rank  \n",
       "count  1004.000000  \n",
       "mean   3348.584661  \n",
       "std    1963.073509  \n",
       "min      45.000000  \n",
       "25%    2135.000000  \n",
       "50%    3215.000000  \n",
       "75%    4523.000000  \n",
       "max    9878.000000  "
      ]
     },
     "execution_count": 9,
     "metadata": {},
     "output_type": "execute_result"
    }
   ],
   "source": [
    "d.describe()"
   ]
  },
  {
   "cell_type": "code",
   "execution_count": 10,
   "metadata": {},
   "outputs": [
    {
     "data": {
      "text/plain": [
       "array([2015, 2016, 2017, 2018, 2019])"
      ]
     },
     "execution_count": 10,
     "metadata": {},
     "output_type": "execute_result"
    }
   ],
   "source": [
    "d['Year'].unique()"
   ]
  },
  {
   "cell_type": "code",
   "execution_count": 11,
   "metadata": {},
   "outputs": [
    {
     "data": {
      "text/plain": [
       "array(['IIT delhi', 'VIT vellore', 'Ahemedabad IT',\n",
       "       'University college of ENGG', 'SRMIST chennai', 'Manipal IT',\n",
       "       'IIT hydrabad', 'IIT jodhpur', 'BMS college of ENGG', 'IIT bhilai',\n",
       "       'MNIT jaipur', 'IIT palakkad', 'IIT tirupati', 'KLEF hydrabad',\n",
       "       'IIT guwahati', 'Jadavpur Univversity', 'MNNIT allahabad',\n",
       "       'IIT jammu', 'NMIMS', 'S O A  university', 'NIT trichy',\n",
       "       'IIT kanpur', 'Netaji Subhas IT', 'IIT indore', 'BIT Mesra',\n",
       "       'HBUT kanpur', 'NIT warangal', 'IIT goa', 'IIEST shibpur',\n",
       "       'IIT kharagpur', 'BITS pilani', 'IIIT hydrabad', 'MSIT',\n",
       "       'SSN college of ENGG', 'IIT Bombay', 'DTU delhi', 'IIT mandi',\n",
       "       'IIT ropar'], dtype=object)"
      ]
     },
     "execution_count": 11,
     "metadata": {},
     "output_type": "execute_result"
    }
   ],
   "source": [
    "d[\"College\"].unique()"
   ]
  },
  {
   "cell_type": "code",
   "execution_count": 12,
   "metadata": {},
   "outputs": [
    {
     "data": {
      "text/plain": [
       "array(['IIT DELHI', 'VIT VELLORE', 'AHEMEDABAD IT',\n",
       "       'UNIVERSITY COLLEGE OF ENGG', 'SRMIST CHENNAI', 'MANIPAL IT',\n",
       "       'IIT HYDRABAD', 'IIT JODHPUR', 'BMS COLLEGE OF ENGG', 'IIT BHILAI',\n",
       "       'MNIT JAIPUR', 'IIT PALAKKAD', 'IIT TIRUPATI', 'KLEF HYDRABAD',\n",
       "       'IIT GUWAHATI', 'JADAVPUR UNIVVERSITY', 'MNNIT ALLAHABAD',\n",
       "       'IIT JAMMU', 'NMIMS', 'S O A  UNIVERSITY', 'NIT TRICHY',\n",
       "       'IIT KANPUR', 'NETAJI SUBHAS IT', 'IIT INDORE', 'BIT MESRA',\n",
       "       'HBUT KANPUR', 'NIT WARANGAL', 'IIT GOA', 'IIEST SHIBPUR',\n",
       "       'IIT KHARAGPUR', 'BITS PILANI', 'IIIT HYDRABAD', 'MSIT',\n",
       "       'SSN COLLEGE OF ENGG', 'IIT BOMBAY', 'DTU DELHI', 'IIT MANDI',\n",
       "       'IIT ROPAR'], dtype=object)"
      ]
     },
     "execution_count": 12,
     "metadata": {},
     "output_type": "execute_result"
    }
   ],
   "source": [
    "d[\"College\"]=d[\"College\"].apply(str.upper)\n",
    "d[\"College\"].unique()"
   ]
  },
  {
   "cell_type": "code",
   "execution_count": 13,
   "metadata": {},
   "outputs": [
    {
     "data": {
      "text/plain": [
       "array(['IIT DELHI', 'VIT VELLORE', 'AHEMDABAD IT',\n",
       "       'UNIVERSITY COLLEGE OF ENGINEERING', 'SRMIST CHENNAI',\n",
       "       'MANIPAL IT', 'IIT HYDERABAD', 'IIT JODHPUR',\n",
       "       'BMS COLLEGE OF ENGINEERING', 'IIT BHILAI', 'MNIT JAIPUR',\n",
       "       'IIT PALAKKAD', 'IIT TIRUPATI', 'KLEF HYDRABAD', 'IIT GUWAHATI',\n",
       "       'JADAVPUR UNIVERSITY', 'MNIT ALLAHABAD', 'IIT JAMMU', 'NMIMS',\n",
       "       'S O A  UNIVERSITY', 'NIT TRICHY', 'IIT KANPUR',\n",
       "       'NETAJI SUBHAS IT', 'IIT INDORE', 'BITS MESRA', 'HBUT KANPUR',\n",
       "       'NIT WARANGAL', 'IIT GOA', 'IIEST SHIBPUR', 'IIT KHARAGPUR',\n",
       "       'BITS PILANI', 'IIIT HYDERABAD', 'MSIT',\n",
       "       'SSN COLLEGE OF ENGINEERING', 'IIT BOMBAY', 'DTU DELHI',\n",
       "       'IIT MANDI', 'IIT ROPAR'], dtype=object)"
      ]
     },
     "execution_count": 13,
     "metadata": {},
     "output_type": "execute_result"
    }
   ],
   "source": [
    "d[\"College\"]=d[\"College\"].replace(['UNIVERSITY COLLEGE OF ENGG'],'UNIVERSITY COLLEGE OF ENGINEERING')\n",
    "d[\"College\"]=d[\"College\"].replace(['BMS COLLEGE OF ENGG'],'BMS COLLEGE OF ENGINEERING')\n",
    "d[\"College\"]=d[\"College\"].replace(['JADAVPUR UNIVVERSITY'],'JADAVPUR UNIVERSITY')\n",
    "d[\"College\"]=d[\"College\"].replace(['MNNIT ALLAHABAD'],'MNIT ALLAHABAD')\n",
    "d[\"College\"]=d[\"College\"].replace(['S O A UNIVERSITY'],'SOA UNIVERSITY')\n",
    "d[\"College\"]=d[\"College\"].replace(['BIT MESRA'],'BITS MESRA')\n",
    "d[\"College\"]=d[\"College\"].replace(['SSN COLLEGE OF ENGG'],'SSN COLLEGE OF ENGINEERING')\n",
    "d[\"College\"]=d[\"College\"].replace(['AHEMEDABAD IT'],'AHEMDABAD IT')\n",
    "d[\"College\"]=d[\"College\"].replace(['IIT HYDRABAD'],'IIT HYDERABAD')\n",
    "d[\"College\"]=d[\"College\"].replace(['IIIT HYDRABAD'],'IIIT HYDERABAD')\n",
    "d[\"College\"].unique()"
   ]
  },
  {
   "cell_type": "code",
   "execution_count": 14,
   "metadata": {},
   "outputs": [],
   "source": [
    "dict1={1: 'IIT KHARAGPUR', 2:'IIT BOMBAY', 3: 'IIT KANPUR', 4:'IIT DELHI', 5: 'IIT GUWAHATI', 6: 'IIT HYDERABAD', 7: 'IIT JODHPUR', 8: 'IIT ROPAR', 9: 'IIT MANDI', 10: 'IIT PALAKKAD', 11:'IIT TIRUPATI', 12: 'IIT GOA', 13: 'IIT JAMMU', 14: 'IIT INDORE', 15: 'IIT BHILAI', 16: 'NIT WARANGAL', 17: 'NIT TRICHY', 18: 'IIIT HYDERABAD', 19: 'BITS PILANI', 20: 'DTU DELHI', 21: 'VIT VELLORE', 22: 'BITS MESRA', 23: 'MANIPAL IT', 24: 'AHEMDABAD IT', 25: 'MNIT JAIPUR', 26: 'S O A  UNIVERSITY', 27: 'MNIT ALLAHABAD', 28: 'NMIMS', 29: 'MSIT', 30: 'SSN COLLEGE OF ENGINEERING', 31: 'UNIVERSITY COLLEGE OF ENGINEERING', 32: 'SRMIST CHENNAI', 33: 'BMS COLLEGE OF ENGINEERING', 34: 'KLEF HYDRABAD', 35: 'JADAVPUR UNIVERSITY', 36: 'HBUT KANPUR', 37: 'IIEST SHIBPUR', 38: 'NETAJI SUBHAS IT'}"
   ]
  },
  {
   "cell_type": "code",
   "execution_count": 15,
   "metadata": {},
   "outputs": [
    {
     "data": {
      "text/plain": [
       "array(['Delhi', 'Tamil Nadu', 'Gujrat', 'Andhra Pradesh', 'Karnataka',\n",
       "       'Telangana', 'Rajasthan', 'Chhattisgarh', 'Kerala', 'Assam',\n",
       "       'West Bengal', 'Uttar Pradesh', 'Jammu', 'Maharashtra', 'Odisha',\n",
       "       'uttar Pradesh', 'Madhya Pradesh', 'Jharkhnad', 'Goa',\n",
       "       'Himachal Pradesh', 'Punjab'], dtype=object)"
      ]
     },
     "execution_count": 15,
     "metadata": {},
     "output_type": "execute_result"
    }
   ],
   "source": [
    "d[\"States\"].unique()"
   ]
  },
  {
   "cell_type": "code",
   "execution_count": 16,
   "metadata": {},
   "outputs": [],
   "source": [
    "d['States']=d['States'].replace(['Gujrat'],'Gujarat')\n",
    "d['States']=d['States'].replace(['uttar Pradesh'],'Uttar Pradesh')\n",
    "d['States']=d['States'].replace(['Jharkhnad'],'Jharkhand')\n",
    "d['States']=d['States'].replace(['Jammu'],'Jammu & Kashmir')\n",
    "d['States']=d['States'].replace(['Odisha'],'Orissa')"
   ]
  },
  {
   "cell_type": "code",
   "execution_count": 17,
   "metadata": {},
   "outputs": [
    {
     "data": {
      "text/plain": [
       "array(['Delhi', 'Tamil Nadu', 'Gujarat', 'Andhra Pradesh', 'Karnataka',\n",
       "       'Telangana', 'Rajasthan', 'Chhattisgarh', 'Kerala', 'Assam',\n",
       "       'West Bengal', 'Uttar Pradesh', 'Jammu & Kashmir', 'Maharashtra',\n",
       "       'Orissa', 'Madhya Pradesh', 'Jharkhand', 'Goa', 'Himachal Pradesh',\n",
       "       'Punjab'], dtype=object)"
      ]
     },
     "execution_count": 17,
     "metadata": {},
     "output_type": "execute_result"
    }
   ],
   "source": [
    "d[\"States\"].unique()"
   ]
  },
  {
   "cell_type": "code",
   "execution_count": 18,
   "metadata": {},
   "outputs": [
    {
     "data": {
      "text/plain": [
       "Tamil Nadu          108\n",
       "Rajasthan            86\n",
       "Telangana            78\n",
       "Uttar Pradesh        75\n",
       "Karnataka            72\n",
       "Delhi                67\n",
       "Maharashtra          62\n",
       "West Bengal          58\n",
       "Kerala               50\n",
       "Gujarat              49\n",
       "Orissa               49\n",
       "Andhra Pradesh       42\n",
       "Jammu & Kashmir      35\n",
       "Chhattisgarh         32\n",
       "Madhya Pradesh       30\n",
       "Goa                  30\n",
       "Jharkhand            29\n",
       "Assam                18\n",
       "Himachal Pradesh     17\n",
       "Punjab               17\n",
       "Name: States, dtype: int64"
      ]
     },
     "execution_count": 18,
     "metadata": {},
     "output_type": "execute_result"
    }
   ],
   "source": [
    "d[\"States\"].value_counts()"
   ]
  },
  {
   "cell_type": "code",
   "execution_count": null,
   "metadata": {
    "scrolled": true
   },
   "outputs": [],
   "source": []
  },
  {
   "cell_type": "code",
   "execution_count": 19,
   "metadata": {},
   "outputs": [
    {
     "data": {
      "text/html": [
       "<div>\n",
       "<style scoped>\n",
       "    .dataframe tbody tr th:only-of-type {\n",
       "        vertical-align: middle;\n",
       "    }\n",
       "\n",
       "    .dataframe tbody tr th {\n",
       "        vertical-align: top;\n",
       "    }\n",
       "\n",
       "    .dataframe thead th {\n",
       "        text-align: right;\n",
       "    }\n",
       "</style>\n",
       "<table border=\"1\" class=\"dataframe\">\n",
       "  <thead>\n",
       "    <tr style=\"text-align: right;\">\n",
       "      <th></th>\n",
       "      <th>0</th>\n",
       "      <th>Year</th>\n",
       "      <th>10th Marks</th>\n",
       "      <th>12th Marks</th>\n",
       "      <th>12th Division</th>\n",
       "      <th>AIEEE Rank</th>\n",
       "      <th>College</th>\n",
       "      <th>States</th>\n",
       "      <th>College Rank</th>\n",
       "    </tr>\n",
       "  </thead>\n",
       "  <tbody>\n",
       "    <tr>\n",
       "      <th>0</th>\n",
       "      <td>0</td>\n",
       "      <td>2015</td>\n",
       "      <td>95</td>\n",
       "      <td>92</td>\n",
       "      <td>2</td>\n",
       "      <td>100</td>\n",
       "      <td>IIT DELHI</td>\n",
       "      <td>Delhi</td>\n",
       "      <td>4</td>\n",
       "    </tr>\n",
       "    <tr>\n",
       "      <th>1</th>\n",
       "      <td>1</td>\n",
       "      <td>2015</td>\n",
       "      <td>75</td>\n",
       "      <td>88</td>\n",
       "      <td>3</td>\n",
       "      <td>1023</td>\n",
       "      <td>VIT VELLORE</td>\n",
       "      <td>Tamil Nadu</td>\n",
       "      <td>21</td>\n",
       "    </tr>\n",
       "    <tr>\n",
       "      <th>2</th>\n",
       "      <td>2</td>\n",
       "      <td>2015</td>\n",
       "      <td>83</td>\n",
       "      <td>84</td>\n",
       "      <td>6</td>\n",
       "      <td>2935</td>\n",
       "      <td>AHEMDABAD IT</td>\n",
       "      <td>Gujarat</td>\n",
       "      <td>24</td>\n",
       "    </tr>\n",
       "    <tr>\n",
       "      <th>3</th>\n",
       "      <td>3</td>\n",
       "      <td>2015</td>\n",
       "      <td>75</td>\n",
       "      <td>91</td>\n",
       "      <td>8</td>\n",
       "      <td>5647</td>\n",
       "      <td>UNIVERSITY COLLEGE OF ENGINEERING</td>\n",
       "      <td>Andhra Pradesh</td>\n",
       "      <td>31</td>\n",
       "    </tr>\n",
       "    <tr>\n",
       "      <th>4</th>\n",
       "      <td>4</td>\n",
       "      <td>2015</td>\n",
       "      <td>94</td>\n",
       "      <td>94</td>\n",
       "      <td>9</td>\n",
       "      <td>3564</td>\n",
       "      <td>SRMIST CHENNAI</td>\n",
       "      <td>Tamil Nadu</td>\n",
       "      <td>32</td>\n",
       "    </tr>\n",
       "  </tbody>\n",
       "</table>\n",
       "</div>"
      ],
      "text/plain": [
       "   0  Year  10th Marks  12th Marks  12th Division  AIEEE Rank  \\\n",
       "0  0  2015          95          92              2         100   \n",
       "1  1  2015          75          88              3        1023   \n",
       "2  2  2015          83          84              6        2935   \n",
       "3  3  2015          75          91              8        5647   \n",
       "4  4  2015          94          94              9        3564   \n",
       "\n",
       "                             College          States  College Rank  \n",
       "0                          IIT DELHI           Delhi             4  \n",
       "1                        VIT VELLORE      Tamil Nadu            21  \n",
       "2                       AHEMDABAD IT         Gujarat            24  \n",
       "3  UNIVERSITY COLLEGE OF ENGINEERING  Andhra Pradesh            31  \n",
       "4                     SRMIST CHENNAI      Tamil Nadu            32  "
      ]
     },
     "execution_count": 19,
     "metadata": {},
     "output_type": "execute_result"
    }
   ],
   "source": [
    "df=pd.read_csv(\"CAP.csv\")\n",
    "df.head()"
   ]
  },
  {
   "cell_type": "code",
   "execution_count": 20,
   "metadata": {},
   "outputs": [],
   "source": [
    "X=df[['10th Marks','12th Marks','AIEEE Rank','12th Division']]\n",
    "c=0\n",
    "y=df['College Rank']\n",
    "\n"
   ]
  },
  {
   "cell_type": "code",
   "execution_count": 21,
   "metadata": {},
   "outputs": [],
   "source": [
    "from sklearn.linear_model import LinearRegression\n",
    "from sklearn.neighbors import KNeighborsRegressor\n",
    "from sklearn.tree import DecisionTreeRegressor\n",
    "from sklearn.tree import DecisionTreeRegressor\n",
    "from sklearn.model_selection import cross_val_score\n",
    "from sklearn.model_selection import RepeatedKFold\n"
   ]
  },
  {
   "cell_type": "code",
   "execution_count": 22,
   "metadata": {},
   "outputs": [],
   "source": [
    "from sklearn.model_selection import train_test_split\n",
    "X_train,X_test, y_train,y_test=train_test_split(X,y,test_size=0.1,random_state=3)"
   ]
  },
  {
   "cell_type": "code",
   "execution_count": 23,
   "metadata": {},
   "outputs": [
    {
     "name": "stdout",
     "output_type": "stream",
     "text": [
      "12.404512321882223\n"
     ]
    }
   ],
   "source": [
    "lrmodel = LinearRegression()\n",
    "# fit model\n",
    "lrmodel.fit(X_train, y_train)\n",
    "t=lrmodel.predict(X_test)\n",
    "\n",
    "from sklearn import metrics\n",
    "score = lrmodel.score(X_test, y_test) \n",
    "print(score*100)"
   ]
  },
  {
   "cell_type": "code",
   "execution_count": 24,
   "metadata": {},
   "outputs": [],
   "source": [
    "from sklearn.model_selection import train_test_split\n",
    "X_train,X_test, y_train,y_test=train_test_split(X,y,test_size=0.2,random_state=3)"
   ]
  },
  {
   "cell_type": "code",
   "execution_count": 25,
   "metadata": {},
   "outputs": [
    {
     "name": "stdout",
     "output_type": "stream",
     "text": [
      "31.106814432329198\n"
     ]
    }
   ],
   "source": [
    "lrmodel = LinearRegression()\n",
    "# fit model\n",
    "lrmodel.fit(X_train, y_train)\n",
    "t=lrmodel.predict(X_test)\n",
    "\n",
    "from sklearn import metrics\n",
    "score = lrmodel.score(X_test, y_test) \n",
    "print(score*100)"
   ]
  },
  {
   "cell_type": "code",
   "execution_count": 26,
   "metadata": {},
   "outputs": [],
   "source": [
    "from sklearn.model_selection import train_test_split\n",
    "X_train,X_test, y_train,y_test=train_test_split(X,y,test_size=0.3,random_state=3)"
   ]
  },
  {
   "cell_type": "code",
   "execution_count": 27,
   "metadata": {},
   "outputs": [
    {
     "name": "stdout",
     "output_type": "stream",
     "text": [
      "27.763536703545853\n"
     ]
    }
   ],
   "source": [
    "lrmodel = LinearRegression()\n",
    "# fit model\n",
    "lrmodel.fit(X_train, y_train)\n",
    "t=lrmodel.predict(X_test)\n",
    "\n",
    "from sklearn import metrics\n",
    "score = lrmodel.score(X_test, y_test) \n",
    "print(score*100)"
   ]
  },
  {
   "cell_type": "code",
   "execution_count": 28,
   "metadata": {},
   "outputs": [],
   "source": [
    "from sklearn.model_selection import train_test_split\n",
    "X_train,X_test, y_train,y_test=train_test_split(X,y,test_size=0.4,random_state=3)"
   ]
  },
  {
   "cell_type": "code",
   "execution_count": 29,
   "metadata": {},
   "outputs": [
    {
     "name": "stdout",
     "output_type": "stream",
     "text": [
      "29.855281388447896\n"
     ]
    }
   ],
   "source": [
    "lrmodel = LinearRegression()\n",
    "# fit model\n",
    "lrmodel.fit(X_train, y_train)\n",
    "t=lrmodel.predict(X_test)\n",
    "\n",
    "from sklearn import metrics\n",
    "score = lrmodel.score(X_test, y_test) \n",
    "print(score*100)"
   ]
  },
  {
   "cell_type": "code",
   "execution_count": 30,
   "metadata": {},
   "outputs": [
    {
     "name": "stdout",
     "output_type": "stream",
     "text": [
      "RMSE value for k=  1 is: 4.712109941364111\n",
      "RMSE value for k=  2 is: 4.92689087877368\n",
      "RMSE value for k=  3 is: 4.793958100888977\n",
      "RMSE value for k=  4 is: 4.87159435832252\n",
      "RMSE value for k=  5 is: 4.922736366426028\n",
      "RMSE value for k=  6 is: 5.141206729309683\n",
      "RMSE value for k=  7 is: 5.3889673061038765\n",
      "RMSE value for k=  8 is: 5.627839250268763\n",
      "RMSE value for k=  9 is: 5.828254653000953\n",
      "RMSE value for k=  10 is: 6.091005521152191\n",
      "RMSE value for k=  11 is: 6.358222805562814\n",
      "RMSE value for k=  12 is: 6.620062800418247\n",
      "RMSE value for k=  13 is: 6.786272168629558\n",
      "RMSE value for k=  14 is: 6.864489630711168\n",
      "RMSE value for k=  15 is: 6.894213691294112\n",
      "RMSE value for k=  16 is: 6.934256726983895\n",
      "RMSE value for k=  17 is: 6.993487870301701\n",
      "RMSE value for k=  18 is: 7.092383308090641\n",
      "RMSE value for k=  19 is: 7.074397380943226\n",
      "RMSE value for k=  20 is: 7.056837480336401\n"
     ]
    }
   ],
   "source": [
    "from sklearn import neighbors\n",
    "from sklearn.metrics import mean_squared_error \n",
    "from math import sqrt\n",
    "import matplotlib.pyplot as plt\n",
    "%matplotlib inline\n",
    "rmse_val = [] #to store rmse values for different k\n",
    "for K in range(20):\n",
    "    K = K+1\n",
    "    model = neighbors.KNeighborsRegressor(n_neighbors = K)\n",
    "\n",
    "    model.fit(X_train, y_train)  #fit the model\n",
    "    pred=model.predict(X_test) #make prediction on test set\n",
    "    error = sqrt(mean_squared_error(y_test,pred)) #calculate rmse\n",
    "    rmse_val.append(error) #store rmse values\n",
    "    print('RMSE value for k= ' , K , 'is:', error)\n"
   ]
  },
  {
   "cell_type": "code",
   "execution_count": 31,
   "metadata": {},
   "outputs": [
    {
     "data": {
      "text/plain": [
       "<matplotlib.axes._subplots.AxesSubplot at 0x7f217ec27b50>"
      ]
     },
     "execution_count": 31,
     "metadata": {},
     "output_type": "execute_result"
    },
    {
     "data": {
      "image/png": "[encoded data removed]",
      "text/plain": [
       "<Figure size 432x288 with 1 Axes>"
      ]
     },
     "metadata": {
      "needs_background": "light"
     },
     "output_type": "display_data"
    }
   ],
   "source": [
    "curve = pd.DataFrame(rmse_val) #elbow curve \n",
    "curve.plot()"
   ]
  },
  {
   "cell_type": "code",
   "execution_count": 32,
   "metadata": {},
   "outputs": [
    {
     "data": {
      "text/plain": [
       "{'n_neighbors': 2}"
      ]
     },
     "execution_count": 32,
     "metadata": {},
     "output_type": "execute_result"
    }
   ],
   "source": [
    "from sklearn.model_selection import GridSearchCV\n",
    "params = {'n_neighbors':[2,3,4,5,6,7,8,9]}\n",
    "\n",
    "knn = neighbors.KNeighborsRegressor()\n",
    "\n",
    "model = GridSearchCV(knn, params, cv=5)\n",
    "model.fit(X_train,y_train)\n",
    "model.best_params_"
   ]
  },
  {
   "cell_type": "code",
   "execution_count": 33,
   "metadata": {},
   "outputs": [],
   "source": [
    "from sklearn.preprocessing import MinMaxScaler\n",
    "scaler = MinMaxScaler(feature_range=(0, 1))\n",
    "\n",
    "X_train_scaled = scaler.fit_transform(X_train)\n",
    "X_train = pd.DataFrame(X_train_scaled)\n",
    "\n",
    "X_test_scaled = scaler.fit_transform(X_test)\n",
    "X_test = pd.DataFrame(X_test_scaled)"
   ]
  },
  {
   "cell_type": "code",
   "execution_count": 34,
   "metadata": {},
   "outputs": [],
   "source": [
    "from sklearn.model_selection import train_test_split\n",
    "X_train,X_test, y_train,y_test=train_test_split(X,y,test_size=0.1,random_state=3)"
   ]
  },
  {
   "cell_type": "code",
   "execution_count": 35,
   "metadata": {},
   "outputs": [
    {
     "name": "stdout",
     "output_type": "stream",
     "text": [
      "90.85571820865938\n"
     ]
    }
   ],
   "source": [
    "knrmodel = KNeighborsRegressor(n_neighbors=2)\n",
    "knrmodel.fit(X_train, y_train)\n",
    "t=knrmodel.predict(X_test)\n",
    "score = knrmodel.score(X_test, y_test) \n",
    "print(score*100)"
   ]
  },
  {
   "cell_type": "code",
   "execution_count": 36,
   "metadata": {},
   "outputs": [],
   "source": [
    "from sklearn.model_selection import train_test_split\n",
    "X_train,X_test, y_train,y_test=train_test_split(X,y,test_size=0.2,random_state=3)"
   ]
  },
  {
   "cell_type": "code",
   "execution_count": 37,
   "metadata": {},
   "outputs": [
    {
     "name": "stdout",
     "output_type": "stream",
     "text": [
      "90.83896454908054\n"
     ]
    }
   ],
   "source": [
    "knrmodel = KNeighborsRegressor(n_neighbors=2)\n",
    "knrmodel.fit(X_train, y_train)\n",
    "t=knrmodel.predict(X_test)\n",
    "score = knrmodel.score(X_test, y_test) \n",
    "print(score*100)"
   ]
  },
  {
   "cell_type": "code",
   "execution_count": 38,
   "metadata": {},
   "outputs": [],
   "source": [
    "from sklearn.model_selection import train_test_split\n",
    "X_train,X_test, y_train,y_test=train_test_split(X,y,test_size=0.3,random_state=3)"
   ]
  },
  {
   "cell_type": "code",
   "execution_count": 39,
   "metadata": {},
   "outputs": [
    {
     "name": "stdout",
     "output_type": "stream",
     "text": [
      "91.26670285296582\n"
     ]
    }
   ],
   "source": [
    "knrmodel = KNeighborsRegressor(n_neighbors=2)\n",
    "knrmodel.fit(X_train, y_train)\n",
    "t=knrmodel.predict(X_test)\n",
    "score = knrmodel.score(X_test, y_test) \n",
    "print(score*100)"
   ]
  },
  {
   "cell_type": "code",
   "execution_count": 40,
   "metadata": {},
   "outputs": [],
   "source": [
    "from sklearn.model_selection import train_test_split\n",
    "X_train,X_test, y_train,y_test=train_test_split(X,y,test_size=0.4,random_state=3)"
   ]
  },
  {
   "cell_type": "code",
   "execution_count": 41,
   "metadata": {},
   "outputs": [
    {
     "name": "stdout",
     "output_type": "stream",
     "text": [
      "77.42767945920565\n"
     ]
    }
   ],
   "source": [
    "knrmodel = KNeighborsRegressor(n_neighbors=2)\n",
    "knrmodel.fit(X_train, y_train)\n",
    "t=knrmodel.predict(X_test)\n",
    "score = knrmodel.score(X_test, y_test) \n",
    "print(score*100)\n"
   ]
  },
  {
   "cell_type": "code",
   "execution_count": 42,
   "metadata": {},
   "outputs": [],
   "source": [
    "# using feature scaling\n",
    "# from sklearn.preprocessing import StandardScaler\n",
    "# X_sc = StandardScaler()\n",
    "# X_train = X_sc.fit_transform(X_train)\n",
    "from sklearn.tree import DecisionTreeRegressor\n",
    "dtrmodel = DecisionTreeRegressor(random_state = 0)"
   ]
  },
  {
   "cell_type": "code",
   "execution_count": 43,
   "metadata": {},
   "outputs": [],
   "source": [
    "from sklearn.model_selection import train_test_split\n",
    "X_train,X_test, y_train,y_test=train_test_split(X,y,test_size=0.1)"
   ]
  },
  {
   "cell_type": "code",
   "execution_count": 44,
   "metadata": {},
   "outputs": [
    {
     "name": "stdout",
     "output_type": "stream",
     "text": [
      "95.9088804876167\n"
     ]
    }
   ],
   "source": [
    "dtrmodel.fit(X_train, y_train)\n",
    "t = dtrmodel.predict(X_test)\n",
    "#Accuracy of the algorithm\n",
    "score = dtrmodel.score(X_test, y_test) \n",
    "print(score*100)\n"
   ]
  },
  {
   "cell_type": "code",
   "execution_count": 45,
   "metadata": {},
   "outputs": [],
   "source": [
    "from sklearn.model_selection import train_test_split\n",
    "X_train,X_test, y_train,y_test=train_test_split(X,y,test_size=0.2,random_state=3)"
   ]
  },
  {
   "cell_type": "code",
   "execution_count": 46,
   "metadata": {},
   "outputs": [
    {
     "name": "stdout",
     "output_type": "stream",
     "text": [
      "95.86105043982624\n"
     ]
    }
   ],
   "source": [
    "dtrmodel.fit(X_train, y_train)\n",
    "t = dtrmodel.predict(X_test)\n",
    "#Accuracy of the algorithm\n",
    "score = dtrmodel.score(X_test, y_test) \n",
    "print(score*100)"
   ]
  },
  {
   "cell_type": "code",
   "execution_count": 47,
   "metadata": {},
   "outputs": [],
   "source": [
    "from sklearn.model_selection import train_test_split\n",
    "X_train,X_test, y_train,y_test=train_test_split(X,y,test_size=0.3,random_state=3)"
   ]
  },
  {
   "cell_type": "code",
   "execution_count": 48,
   "metadata": {},
   "outputs": [
    {
     "name": "stdout",
     "output_type": "stream",
     "text": [
      "97.53187804517998\n"
     ]
    }
   ],
   "source": [
    "dtrmodel.fit(X_train, y_train)\n",
    "t = dtrmodel.predict(X_test)\n",
    "#Accuracy of the algorithm\n",
    "score = dtrmodel.score(X_test, y_test) \n",
    "print(score*100)"
   ]
  },
  {
   "cell_type": "code",
   "execution_count": 49,
   "metadata": {},
   "outputs": [],
   "source": [
    "from sklearn.model_selection import train_test_split\n",
    "X_train,X_test, y_train,y_test=train_test_split(X,y,test_size=0.4,random_state=3)"
   ]
  },
  {
   "cell_type": "code",
   "execution_count": 50,
   "metadata": {},
   "outputs": [
    {
     "name": "stdout",
     "output_type": "stream",
     "text": [
      "84.08319753631994\n"
     ]
    }
   ],
   "source": [
    "dtrmodel.fit(X_train, y_train)\n",
    "t = dtrmodel.predict(X_test)\n",
    "#Accuracy of the algorithm\n",
    "score = dtrmodel.score(X_test, y_test) \n",
    "print(score*100)"
   ]
  },
  {
   "cell_type": "code",
   "execution_count": 51,
   "metadata": {},
   "outputs": [],
   "source": [
    "from sklearn.ensemble import RandomForestRegressor\n",
    "rfrmodel = RandomForestRegressor(n_estimators= 1000, random_state=100)\n"
   ]
  },
  {
   "cell_type": "code",
   "execution_count": 52,
   "metadata": {},
   "outputs": [],
   "source": [
    "from sklearn.model_selection import train_test_split\n",
    "X_train,X_test, y_train,y_test=train_test_split(X,y,test_size=0.1,random_state=3)\n"
   ]
  },
  {
   "cell_type": "code",
   "execution_count": 53,
   "metadata": {},
   "outputs": [
    {
     "name": "stdout",
     "output_type": "stream",
     "text": [
      "77.16536245948011\n"
     ]
    }
   ],
   "source": [
    "rfrmodel.fit(X_train, y_train)\n",
    "t = dtrmodel.predict(X_test)\n",
    "#Accuracy of the algorithm\n",
    "score = dtrmodel.score(X_test, y_test) \n",
    "print(score*100)"
   ]
  },
  {
   "cell_type": "code",
   "execution_count": 54,
   "metadata": {},
   "outputs": [],
   "source": [
    "from sklearn.model_selection import train_test_split\n",
    "X_train,X_test, y_train,y_test=train_test_split(X,y,test_size=0.2,random_state=3)\n"
   ]
  },
  {
   "cell_type": "code",
   "execution_count": 55,
   "metadata": {},
   "outputs": [
    {
     "name": "stdout",
     "output_type": "stream",
     "text": [
      "85.46554921892472\n"
     ]
    }
   ],
   "source": [
    "rfrmodel.fit(X_train, y_train)\n",
    "t = dtrmodel.predict(X_test)\n",
    "#Accuracy of the algorithm\n",
    "score = dtrmodel.score(X_test, y_test) \n",
    "print(score*100)"
   ]
  },
  {
   "cell_type": "code",
   "execution_count": 56,
   "metadata": {},
   "outputs": [],
   "source": [
    "from sklearn.model_selection import train_test_split\n",
    "X_train,X_test, y_train,y_test=train_test_split(X,y,test_size=0.3,random_state=3)\n"
   ]
  },
  {
   "cell_type": "code",
   "execution_count": 57,
   "metadata": {},
   "outputs": [
    {
     "name": "stdout",
     "output_type": "stream",
     "text": [
      "83.60760648408878\n"
     ]
    }
   ],
   "source": [
    "rfrmodel.fit(X_train, y_train)\n",
    "t = dtrmodel.predict(X_test)\n",
    "#Accuracy of the algorithm\n",
    "score = dtrmodel.score(X_test, y_test) \n",
    "print(score*100)"
   ]
  },
  {
   "cell_type": "code",
   "execution_count": 58,
   "metadata": {},
   "outputs": [],
   "source": [
    "from sklearn.model_selection import train_test_split\n",
    "X_train,X_test, y_train,y_test=train_test_split(X,y,test_size=0.4,random_state=3)\n"
   ]
  },
  {
   "cell_type": "code",
   "execution_count": 59,
   "metadata": {},
   "outputs": [
    {
     "name": "stdout",
     "output_type": "stream",
     "text": [
      "84.08319753631994\n"
     ]
    }
   ],
   "source": [
    "rfrmodel.fit(X_train, y_train)\n",
    "t = dtrmodel.predict(X_test)\n",
    "#Accuracy of the algorithm\n",
    "score = dtrmodel.score(X_test, y_test) \n",
    "print(score*100)"
   ]
  },
  {
   "cell_type": "code",
   "execution_count": 60,
   "metadata": {},
   "outputs": [
    {
     "name": "stdout",
     "output_type": "stream",
     "text": [
      "Enter State   :   West Bengal\n"
     ]
    }
   ],
   "source": [
    "state2=input('Enter State   :   ')"
   ]
  },
  {
   "cell_type": "code",
   "execution_count": 69,
   "metadata": {},
   "outputs": [
    {
     "name": "stdout",
     "output_type": "stream",
     "text": [
      "108     IIT KHARAGPUR\n",
      "509     IIT KHARAGPUR\n",
      "264     IIT KHARAGPUR\n",
      "262     IIT KHARAGPUR\n",
      "259     IIT KHARAGPUR\n",
      "            ...      \n",
      "999               NaN\n",
      "1000              NaN\n",
      "1001              NaN\n",
      "1002              NaN\n",
      "1003              NaN\n",
      "Name: College, Length: 1004, dtype: object\n",
      "IIT KHARAGPUR\n"
     ]
    }
   ],
   "source": [
    "df=pd.read_csv(\"CAP.csv\")\n",
    "filter1 = df[\"States\"]==state2\n",
    "filter2 = df[\"College Rank\"]<t[4]\n",
    "df.where(filter1 & filter2, inplace = True)\n",
    "df=df.sort_values(\"States\", inplace = False)\n",
    "#pd.set_option('display.max_rows', None)\n",
    "collist=[]\n",
    "print(df['College'])\n",
    "for i in df[\"College\"]:\n",
    "    if i not in collist:\n",
    "        collist.append(i)\n",
    "\n",
    "collist.pop()\n",
    "for i in dict1:\n",
    "    for j in collist:\n",
    "        if dict1[i]==j:\n",
    "            print(j)\n",
    "#for i in collist:\n",
    " #   print(i)\n"
   ]
  },
  {
   "cell_type": "code",
   "execution_count": null,
   "metadata": {},
   "outputs": [],
   "source": []
  },
  {
   "cell_type": "code",
   "execution_count": null,
   "metadata": {},
   "outputs": [],
   "source": []
  },
  {
   "cell_type": "code",
   "execution_count": null,
   "metadata": {},
   "outputs": [],
   "source": []
  }
 ],
 "metadata": {
  "kernelspec": {
   "display_name": "Python 3",
   "language": "python",
   "name": "python3"
  },
  "language_info": {
   "codemirror_mode": {
    "name": "ipython",
    "version": 3
   },
   "file_extension": ".py",
   "mimetype": "text/x-python",
   "name": "python",
   "nbconvert_exporter": "python",
   "pygments_lexer": "ipython3",
   "version": "3.7.6"
  }
 },
 "nbformat": 4,
 "nbformat_minor": 4
}
